{
 "cells": [
  {
   "cell_type": "code",
   "execution_count": 25,
   "metadata": {},
   "outputs": [],
   "source": [
    "import torch\n",
    "import torch.nn as nn\n",
    "import numpy as np\n",
    "import matplotlib.pyplot as plt\n",
    "import os\n",
    "os.environ[\"KMP_DUPLICATE_LIB_OK\"] = \"TRUE\""
   ]
  },
  {
   "cell_type": "markdown",
   "metadata": {},
   "source": [
    "# 1 class LogisticsRegression"
   ]
  },
  {
   "cell_type": "code",
   "execution_count": 39,
   "metadata": {},
   "outputs": [],
   "source": [
    "class LogisticsRegression(nn.Module):\n",
    "    def __init__(self, in_dim):\n",
    "        \"\"\"\n",
    "        *********请在此处输入你的代码*********\n",
    "        定义模型参数w，以及非线性sigmoid函数\n",
    "        \"\"\"\n",
    "        super().__init__()  # 等价于nn.Module.__init__()\n",
    "        self.w=nn.Parameter(torch.randn(in_dim+1,1))\n",
    "        self.sigmoid=torch.nn.Sigmoid()\n",
    "\n",
    "    def forward(self, x):\n",
    "        \"\"\"\n",
    "        *********请在此处输入你的代码*********\n",
    "        定义模型函数：f = sigmoid(<w, x>)\n",
    "        输入：x矩阵，每一行对应一个数据样本\n",
    "        输出（返回值）：每一个数据样本的输出（预测）\n",
    "        \"\"\"\n",
    "        x=torch.cat([x,torch.ones((x.shape[0],1))],dim=1)\n",
    "        x=torch.matmul(x,self.w)\n",
    "        output=self.sigmoid(x)\n",
    "        return output"
   ]
  },
  {
   "cell_type": "markdown",
   "metadata": {},
   "source": [
    "# 2 class Logistics_Model"
   ]
  },
  {
   "cell_type": "code",
   "execution_count": 91,
   "metadata": {},
   "outputs": [],
   "source": [
    "class Logistics_Model():\n",
    "    \"\"\"\n",
    "    模型训练与测试类\n",
    "    \"\"\"\n",
    "    def __init__(self, in_dim):\n",
    "        \"\"\"\n",
    "        *********请在此处输入你的代码*********\n",
    "        输入：输入数据的维度 in_dim\n",
    "        定义类的属性：包括训练步长、轮数、逻辑斯蒂回归模型、优化器、损失函数\n",
    "        输出：无返回变量\n",
    "        \"\"\"\n",
    "        self.learning_rate=0.01\n",
    "        self.epoches=3000\n",
    "        self.model=LogisticsRegression(in_dim)\n",
    "        self.optimizer=torch.optim.Adam(self.model.parameters(), lr=self.learning_rate)\n",
    "        self.loss_function=nn.BCELoss()\n",
    "\n",
    "    def train(self, x, y):\n",
    "        \"\"\"\n",
    "        训练模型\n",
    "        输入:\n",
    "            x: 训练数据矩阵\n",
    "            y: +1/-1列表，分类标签\n",
    "\n",
    "        定义迭代优化过程：一共优化指定的轮数\n",
    "\n",
    "        返回: \n",
    "            losses: 训练中每一轮的损失值（画图用）\n",
    "        \"\"\"\n",
    "        losses = []\n",
    "        self.model.train()                     \n",
    "        for epoch in range(self.epoches):\n",
    "            prediction = self.model(x)\n",
    "            loss = self.loss_function(prediction, y)           \n",
    "\n",
    "            self.optimizer.zero_grad()#所有参数的梯度设置为0\n",
    "            loss.backward()#计算梯度\n",
    "            self.optimizer.step()#所有参数更新一次\n",
    "\n",
    "            losses.append(loss.item())#tensor.item():把tensor变为float\n",
    "\n",
    "            if epoch % 500 == 0:\n",
    "                print(\"epoch: {}, loss is: {}\".format(epoch, loss.item()))\n",
    "\n",
    "        return losses\n",
    "\n",
    "    def test(self, x, y):\n",
    "        \"\"\"\n",
    "        用训练好的模型做测试\n",
    "        输入:\n",
    "            x: 测试数据\n",
    "            y: 测试数据的真实标签\n",
    "        过程：使用训练好的模型，预测x的标签，并且与y进行对比，计算预测精度\n",
    "        返回:\n",
    "            prediction: 每一个测试数据的预测值\n",
    "            accuracy: 数值，模型的精度\n",
    "        \"\"\"\n",
    "        num_correct=0\n",
    "        self.model.eval()\n",
    "        pred = self.model(x)\n",
    "        y_shape=(pred.shape[0],pred.shape[1])\n",
    "        y1=torch.ones(y_shape)\n",
    "        y0=torch.zeros(y_shape)\n",
    "        pred_label=torch.where(pred>0.5,y1,y0).view(y_shape)\n",
    "#         print(pred_label)\n",
    "#         print(y)\n",
    "        #loss = self.loss_function(pred, y)\n",
    "        \n",
    "        num_correct += torch.eq(pred_label, y).sum().float().item()\n",
    "        accuracy=num_correct/len(y)\n",
    "        print('num_correct',num_correct)\n",
    "        print('len(y)',len(y))\n",
    "\n",
    "        return pred, accuracy"
   ]
  },
  {
   "cell_type": "markdown",
   "metadata": {},
   "source": [
    "# 3 def create_linear_data()"
   ]
  },
  {
   "cell_type": "code",
   "execution_count": 86,
   "metadata": {},
   "outputs": [],
   "source": [
    "def create_linear_data(data_size, in_dim):\n",
    "    \"\"\"\n",
    "    为线性模型生成数据\n",
    "    输入:\n",
    "        data_size: 样本数量\n",
    "    返回:\n",
    "        x_train: 训练数据\n",
    "        y_train: 训练数据回归真值\n",
    "        x_test: 测试数据\n",
    "        y_test: 测试数据回归真值\n",
    "    \"\"\"\n",
    "    np.random.seed(426)\n",
    "    torch.manual_seed(426)\n",
    "    torch.cuda.manual_seed(426)\n",
    "    # *********修改的代码：数据生成，跟之前的那次代码一样，复制修改来的*********\n",
    "    # 正负样本个数\n",
    "    m_pos = data_size // 2;\n",
    "    m_neg = data_size - m_pos;\n",
    "    X = np.zeros((in_dim, data_size))\n",
    "    Y = np.zeros((1, data_size))\n",
    "\n",
    "    x1 = np.random.normal(loc=-1,scale=3,size=(1,m_pos))\n",
    "    X[0:1,0:m_pos] = x1;\n",
    "    # 整体线性分布\n",
    "    X[1:2,0:m_pos] = 2*x1+10+0.1*x1**2;\n",
    "    # 加噪声\n",
    "    X[1:2,0:m_pos] += np.random.normal(loc=0,scale=5,size=(1,m_pos));\n",
    "    Y[0,0:m_pos] = 1;\n",
    "\n",
    "    x1 = np.random.normal(loc=1,scale=3,size=(1,m_neg))\n",
    "    X[0:1,-m_neg:] = x1;\n",
    "    X[1:2,-m_neg:] = 2*x1-5-0.1*x1**2\n",
    "    X[1:2,-m_neg:] += np.random.normal(loc=0,scale=5,size=(1,m_neg))\n",
    "\n",
    "\n",
    "    X = torch.Tensor(X.T)\n",
    "    Y = torch.Tensor(Y.T)\n",
    "    # X = torch.Tensor(data_size, in_dim).uniform_(1, 10)\n",
    "    # map_true = torch.Tensor(in_dim, 1).uniform_(-5, 5)\n",
    "    # #map_true = torch.tensor([[1.5],[-5.],[3.]], dtype=torch.float32)\n",
    "    # print('w真值:{}'.format(map_true))\n",
    "\n",
    "    # Y = X.mm(map_true) + 10. + torch.FloatTensor(data_size,\n",
    "    #                                              1).normal_(0, 10)  # torch.randn(x.size())\n",
    "\n",
    "    shuffled_index = np.random.permutation(data_size)\n",
    "    shuffled_index = torch.from_numpy(shuffled_index).long()\n",
    "    X = X[shuffled_index]\n",
    "    Y = Y[shuffled_index]\n",
    "    split_index = int(data_size * 0.7)\n",
    "    x_train = X[:split_index]\n",
    "    y_train = Y[:split_index]\n",
    "    x_test = X[split_index:]\n",
    "    y_test = Y[split_index:]\n",
    "\n",
    "    return x_train, y_train, x_test, y_test\n"
   ]
  },
  {
   "cell_type": "markdown",
   "metadata": {},
   "source": [
    "# 4 instance test"
   ]
  },
  {
   "cell_type": "code",
   "execution_count": 89,
   "metadata": {},
   "outputs": [],
   "source": [
    "# 生成数据\n",
    "data_size = 200\n",
    "in_dim = 3\n",
    "x_train, y_train, x_test, y_test = create_linear_data(data_size, in_dim)"
   ]
  },
  {
   "cell_type": "code",
   "execution_count": 92,
   "metadata": {},
   "outputs": [
    {
     "name": "stdout",
     "output_type": "stream",
     "text": [
      "epoch: 0, loss is: 0.776974081993103\n",
      "epoch: 500, loss is: 0.09234388917684555\n",
      "epoch: 1000, loss is: 0.08667928725481033\n",
      "epoch: 1500, loss is: 0.08614905178546906\n",
      "epoch: 2000, loss is: 0.08611088246107101\n",
      "epoch: 2500, loss is: 0.08610957115888596\n"
     ]
    },
    {
     "data": {
      "image/png": "[encoded data removed]",
      "text/plain": [
       "<Figure size 432x288 with 1 Axes>"
      ]
     },
     "metadata": {
      "needs_background": "light"
     },
     "output_type": "display_data"
    },
    {
     "name": "stdout",
     "output_type": "stream",
     "text": [
      "num_correct 58.0\n",
      "len(y) 60\n",
      "测试集上accuracy:0.9666666666666667\n",
      "w Parameter containing:\n",
      "tensor([[-1.7169],\n",
      "        [ 0.6616],\n",
      "        [ 1.2746],\n",
      "        [-1.6758]], requires_grad=True)\n"
     ]
    }
   ],
   "source": [
    "# 线性回归模型实例化\n",
    "logistics = Logistics_Model(in_dim)\n",
    "# 模型训练\n",
    "losses = logistics.train(x_train, y_train)\n",
    "plt.figure()\n",
    "plt.scatter(np.arange(len(losses)), losses, marker='o', c='green')\n",
    "plt.show()\n",
    "# 模型测试\n",
    "prediction, accuracy = logistics.test(x_test, y_test)\n",
    "print('测试集上accuracy:{}'.format(accuracy))\n",
    "# 打印参数\n",
    "for name, parameter in logistics.model.named_parameters():\n",
    "    print(name, parameter)"
   ]
  }
 ],
 "metadata": {
  "kernelspec": {
   "display_name": "Python 3",
   "language": "python",
   "name": "python3"
  },
  "language_info": {
   "codemirror_mode": {
    "name": "ipython",
    "version": 3
   },
   "file_extension": ".py",
   "mimetype": "text/x-python",
   "name": "python",
   "nbconvert_exporter": "python",
   "pygments_lexer": "ipython3",
   "version": "3.8.3"
  },
  "toc": {
   "base_numbering": 1,
   "nav_menu": {},
   "number_sections": true,
   "sideBar": true,
   "skip_h1_title": false,
   "title_cell": "Table of Contents",
   "title_sidebar": "Contents",
   "toc_cell": false,
   "toc_position": {
    "height": "calc(100% - 180px)",
    "left": "10px",
    "top": "150px",
    "width": "212.533px"
   },
   "toc_section_display": true,
   "toc_window_display": true
  },
  "varInspector": {
   "cols": {
    "lenName": 16,
    "lenType": 16,
    "lenVar": 40
   },
   "kernels_config": {
    "python": {
     "delete_cmd_postfix": "",
     "delete_cmd_prefix": "del ",
     "library": "var_list.py",
     "varRefreshCmd": "print(var_dic_list())"
    },
    "r": {
     "delete_cmd_postfix": ") ",
     "delete_cmd_prefix": "rm(",
     "library": "var_list.r",
     "varRefreshCmd": "cat(var_dic_list()) "
    }
   },
   "oldHeight": 417.51633400000003,
   "position": {
    "height": "40px",
    "left": "1025px",
    "right": "20px",
    "top": "48px",
    "width": "309.667px"
   },
   "types_to_exclude": [
    "module",
    "function",
    "builtin_function_or_method",
    "instance",
    "_Feature"
   ],
   "varInspector_section_display": "none",
   "window_display": true
  }
 },
 "nbformat": 4,
 "nbformat_minor": 4
}
