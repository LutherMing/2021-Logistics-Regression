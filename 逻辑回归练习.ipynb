{
 "cells": [
  {
   "cell_type": "markdown",
   "metadata": {},
   "source": [
    "# 作业: 逻辑回归\n",
    "\n",
    "## 作业要求：\n",
    "\n",
    "用numpy实现Logistic Regression类（补充cell 1中定义的LogisticRegression类），用梯度下降法训练\n",
    "\n",
    "1. 包括类的方法 loss = fit(X,Y) 函数，用于训练；输入：X为N * d维的训练数据，N为训练样本数，d为数据的维数；Y为N*1维的训练数据真实类别号；输出：loss为列表，包括每轮的损失函数值。\n",
    "\n",
    "2. 包括类的方法 y_pred, y_pred_label = predict(X) 函数，用于测试；输入： X为N * d维的测试数据， N为测试样本数；输出：y_pred维数为N * 1，为模型的预测（回归）值；y_pred_label维数为N * 1，为根据回归值得到的预测类别号"
   ]
  },
  {
   "cell_type": "code",
   "execution_count": 1,
   "metadata": {},
   "outputs": [],
   "source": [
    "#人工数据生成、训练测试数据划分、可视化，请勿修改本cell代码\n",
    "import matplotlib.pyplot as plt\n",
    "\n",
    "def generateData(opt='linear', num_perclass = 100, seed = 1):\n",
    "    np.random.seed(seed)\n",
    "    # 正负样本个数\n",
    "    m_pos = num_perclass;\n",
    "    m_neg = num_perclass;\n",
    "    X = np.zeros((2,m_pos+m_neg))\n",
    "    Y = np.zeros((1,m_pos+m_neg))\n",
    "\n",
    "    # 分布类型：环形、线性函数\n",
    "    if opt=='circle':  \n",
    "        R1_range = 10\n",
    "        R2_range = 5\n",
    "        R_pos = R1_range*np.random.rand(1,m_pos)\n",
    "        R_neg = R2_range*np.random.rand(1,m_neg)+0.9*R1_range\n",
    "        Theta_pos = np.pi*np.random.randn(1,m_pos)\n",
    "        Theta_neg = np.pi*np.random.randn(1,m_neg)\n",
    "\n",
    "        X[0:1,0:m_pos]=R_pos*np.cos(Theta_pos);\n",
    "        X[1:2,0:m_pos]=R_pos*np.sin(Theta_pos);\n",
    "        Y[0,0:m_pos]=1;\n",
    "\n",
    "        X[0:1,-m_neg:]=R_neg*np.cos(Theta_neg);\n",
    "        X[1:2,-m_neg:]=R_neg*np.sin(Theta_neg);\n",
    "        Y[0,-m_neg:]=0;\n",
    "\n",
    "    if opt=='linear':        \n",
    "        x1 = np.random.normal(loc=-1,scale=3,size=(1,m_pos))\n",
    "        X[0:1,0:m_pos] = x1;\n",
    "        # 整体线性分布\n",
    "        X[1:2,0:m_pos] = 2*x1+10+0.1*x1**2;\n",
    "        # 加噪声\n",
    "        X[1:2,0:m_pos] += np.random.normal(loc=0,scale=5,size=(1,m_pos));\n",
    "        Y[0,0:m_pos] = 1;\n",
    "\n",
    "        x1 = np.random.normal(loc=1,scale=3,size=(1,m_neg))\n",
    "        X[0:1,-m_neg:] = x1;\n",
    "        X[1:2,-m_neg:] = 2*x1-5-0.1*x1**2\n",
    "        X[1:2,-m_neg:] += np.random.normal(loc=0,scale=5,size=(1,m_neg))\n",
    "\n",
    "    return X.T,Y.T\n",
    "\n",
    "def featureNormalize(X):\n",
    "    mu = np.mean(X,axis=0,keepdims=True)\n",
    "    sigma = np.std(X,axis=0,keepdims=True)\n",
    "    X_norm = (X-mu)/sigma\n",
    "    return mu,sigma,X_norm\n",
    "\n",
    "def plotData(X,Y):\n",
    "    plt.figure()\n",
    "    pos_idx = (Y==1);\n",
    "    # size m,1\n",
    "    pos_idx = pos_idx[:,0];\n",
    "    # size m, 这时才可用来索引某[一]个维度\n",
    "    neg_idx = (Y==0);\n",
    "    neg_idx = neg_idx[:,0];\n",
    "\n",
    "    plt.plot(X[pos_idx,0],X[pos_idx,1],'r+')\n",
    "    plt.plot(X[neg_idx,0],X[neg_idx,1],'bo')\n",
    "    \n",
    "def plotDecisioinBoundary(X,Y,mu,sigma,regr):    \n",
    "    plotData(X,Y)\n",
    "\n",
    "    plot_num=50;\n",
    "    plot_num_2D=plot_num**2;\n",
    "\n",
    "    x_plot = np.linspace(start=X[:,0].min(),stop=X[:,0].max(),num=plot_num)\n",
    "    y_plot = np.linspace(start=X[:,1].min(),stop=X[:,1].max(),num=plot_num)\n",
    "    X_plot,Y_plot = np.meshgrid(x_plot,y_plot)\n",
    "\n",
    "    X_array = np.zeros((plot_num_2D,2))\n",
    "    X_array[:,0:1] = X_plot.reshape(plot_num_2D,1)\n",
    "    X_array[:,1:2] = Y_plot.reshape(plot_num_2D,1)\n",
    "\n",
    "    X_norm = (X_array-mu)/sigma  #polyFeature(X_array,p)\n",
    "\n",
    "    p_array,_ = regr.predict(X_norm)\n",
    "    P_matrix = p_array.reshape((plot_num,plot_num))\n",
    "\n",
    "    plt.contour(X_plot,Y_plot,P_matrix,np.array([0.5]))\n",
    "    \n",
    "def test(y_pred, y_true):\n",
    "    true = 0.\n",
    "    for j in range(y_pred.shape[0]):\n",
    "        if y_true[j] == y_pred[j]:\n",
    "            true += 1\n",
    "    acc = true/y_pred.shape[0]\n",
    "    return acc"
   ]
  },
  {
   "cell_type": "code",
   "execution_count": 2,
   "metadata": {},
   "outputs": [],
   "source": [
    "import numpy as np\n",
    "\n",
    "class LogisticRegression(object):\n",
    "    def __init__(self, dim,learning_rate=0.01, max_iter=100, seed=None):\n",
    "        np.random.seed(seed)\n",
    "        self.lr = learning_rate\n",
    "        self.max_iter = max_iter  # 定义学习率和训练轮数\n",
    "        # 可在此处补充类的属性\n",
    "        self.W=np.random.normal(loc=0.1,scale=1,size=(dim+1,1))\n",
    "        self.loss_arr=[]\n",
    "        \n",
    "    def fit(self,X,Y_true):\n",
    "        # 请在此处补充类的方法：训练函数，返回每轮loss的列表\n",
    "        X= np.hstack([X, np.ones((X.shape[0], 1))])\n",
    "        for i in range(self.max_iter):\n",
    "            self.loss_function(X,Y_true)\n",
    "            self.train_step(X,Y_true)\n",
    "        return self.loss_arr\n",
    "          \n",
    "    def predict(self, X):\n",
    "        # 请在此处补充类的方法：测试函数，返回对应X的预测值和预测类别列表\n",
    "        if X.shape[1]!=dim+1:\n",
    "            X= np.hstack([X, np.ones((X.shape[0], 1))])\n",
    "        g_x=np.dot(X,self.W)\n",
    "        h_x=1/(1+np.exp(-g_x))\n",
    "        Y_pred=h_x\n",
    "        Y_pred_label=np.where(h_x<0.5,0,1)\n",
    "        return Y_pred, Y_pred_label\n",
    "    \n",
    "    def loss_function(self,X,Y_true):\n",
    "        Y_pred,Y_pred_label=self.predict(X)\n",
    "        cross_entroy_error= -np.mean(Y_true*np.log(Y_pred)+(1-Y_true)*np.log(1-Y_pred))\n",
    "        self.loss_arr.append(cross_entroy_error)\n",
    "        \n",
    "        \n",
    "    def cal_gradient(self,X,Y_true):\n",
    "        Y_pred,Y_pred_label=self.predict(X)\n",
    "#         dw=np.mean(X*(Y_pred-Y_true))\n",
    "        dw=np.dot(X.T,(Y_pred-Y_true))/len(X)\n",
    "        return dw\n",
    "    \n",
    "    def train_step(self,X,Y_true):\n",
    "        \n",
    "        dw=self.cal_gradient(X,Y_true)\n",
    "        self.W=self.W-self.lr*dw\n",
    "        "
   ]
  },
  {
   "cell_type": "code",
   "execution_count": 3,
   "metadata": {},
   "outputs": [
    {
     "name": "stdout",
     "output_type": "stream",
     "text": [
      "[[-0.88537625]\n",
      " [ 1.12587747]\n",
      " [-0.26757119]]\n"
     ]
    },
    {
     "data": {
      "image/png": "[encoded data removed]",
      "text/plain": [
       "<Figure size 432x288 with 1 Axes>"
      ]
     },
     "metadata": {
      "needs_background": "light"
     },
     "output_type": "display_data"
    },
    {
     "name": "stdout",
     "output_type": "stream",
     "text": [
      "训练集上正确率:0.85\n"
     ]
    },
    {
     "data": {
      "text/plain": [
       "<Figure size 432x288 with 0 Axes>"
      ]
     },
     "metadata": {},
     "output_type": "display_data"
    },
    {
     "data": {
      "image/png": "[encoded data removed]",
      "text/plain": [
       "<Figure size 432x288 with 1 Axes>"
      ]
     },
     "metadata": {
      "needs_background": "light"
     },
     "output_type": "display_data"
    }
   ],
   "source": [
    "# 第一组测试\n",
    "dim = 2\n",
    "num_perclass = 100\n",
    "seed = 210404\n",
    "x,y = generateData(opt='linear', num_perclass = num_perclass, seed = seed)\n",
    "shuffled_index = np.random.permutation(num_perclass*2)\n",
    "x = x[shuffled_index,:]\n",
    "y = y[shuffled_index,:]\n",
    "split_index = int(2* num_perclass * 0.7)\n",
    "x_train = x[:split_index,:]\n",
    "y_train = y[:split_index,:]\n",
    "x_test = x[split_index:,:]\n",
    "y_test = y[split_index:,:]\n",
    "mu,sigma,x_train_norm = featureNormalize(x_train)\n",
    "x_test_norm = (x_test-mu)/sigma\n",
    "\n",
    "# 训练逻辑回归模型\n",
    "regr = LogisticRegression(dim, learning_rate=0.01, max_iter=1000, seed=seed)\n",
    "loss = regr.fit(x_train_norm, y_train)\n",
    "print(regr.W)\n",
    "# 打印损失\n",
    "plt.figure()\n",
    "plt.scatter(np.arange(len(loss)), loss, marker='o', c='green')\n",
    "plt.show()\n",
    "\n",
    "# 显示测试集中的分类界面\n",
    "plt.figure()\n",
    "plotDecisioinBoundary(x_test,y_test,mu,sigma,regr)\n",
    "\n",
    "y_pred,y_pred_label = regr.predict(x_test)\n",
    "acc = test(y_pred_label, y_test)\n",
    "print('训练集上正确率:{}'.format(acc))"
   ]
  },
  {
   "cell_type": "code",
   "execution_count": 4,
   "metadata": {},
   "outputs": [
    {
     "name": "stdout",
     "output_type": "stream",
     "text": [
      "[[-0.31060183]\n",
      " [-2.5291407 ]\n",
      " [-0.56564323]]\n"
     ]
    },
    {
     "data": {
      "image/png": "[encoded data removed]",
      "text/plain": [
       "<Figure size 432x288 with 1 Axes>"
      ]
     },
     "metadata": {
      "needs_background": "light"
     },
     "output_type": "display_data"
    },
    {
     "name": "stdout",
     "output_type": "stream",
     "text": [
      "训练集上正确率:0.4666666666666667\n"
     ]
    },
    {
     "data": {
      "text/plain": [
       "<Figure size 432x288 with 0 Axes>"
      ]
     },
     "metadata": {},
     "output_type": "display_data"
    },
    {
     "data": {
      "image/png": "[encoded data removed]",
      "text/plain": [
       "<Figure size 432x288 with 1 Axes>"
      ]
     },
     "metadata": {
      "needs_background": "light"
     },
     "output_type": "display_data"
    },
    {
     "data": {
      "text/plain": [
       "<Figure size 432x288 with 0 Axes>"
      ]
     },
     "metadata": {},
     "output_type": "display_data"
    },
    {
     "data": {
      "image/png": "[encoded data removed]",
      "text/plain": [
       "<Figure size 432x288 with 1 Axes>"
      ]
     },
     "metadata": {
      "needs_background": "light"
     },
     "output_type": "display_data"
    }
   ],
   "source": [
    "# 第二组测试\n",
    "dim = 2\n",
    "num_perclass = 100\n",
    "seed = 210404\n",
    "x,y = generateData(opt='circle', num_perclass = num_perclass, seed = seed)\n",
    "shuffled_index = np.random.permutation(num_perclass*2)\n",
    "x = x[shuffled_index,:]\n",
    "y = y[shuffled_index,:]\n",
    "split_index = int(2* num_perclass * 0.7)\n",
    "x_train = x[:split_index,:]\n",
    "y_train = y[:split_index,:]\n",
    "x_test = x[split_index:,:]\n",
    "y_test = y[split_index:,:]\n",
    "mu,sigma,x_train_norm = featureNormalize(x_train)\n",
    "x_test_norm = (x_test-mu)/sigma\n",
    "\n",
    "# 训练逻辑回归模型\n",
    "regr = LogisticRegression(dim, learning_rate=0.01, max_iter=100, seed=seed)\n",
    "loss = regr.fit(x_train_norm, y_train)\n",
    "print(regr.W)\n",
    "# 打印损失\n",
    "plt.figure()\n",
    "plt.scatter(np.arange(len(loss)), loss, marker='o', c='green')\n",
    "plt.show()\n",
    "\n",
    "# 显示训练集和测试中的分类界面\n",
    "plt.figure()\n",
    "plotDecisioinBoundary(x_train,y_train,mu,sigma,regr)\n",
    "plt.figure()\n",
    "plotDecisioinBoundary(x_test,y_test,mu,sigma,regr)\n",
    "\n",
    "y_pred,y_pred_label = regr.predict(x_test)\n",
    "acc = test(y_pred_label, y_test)\n",
    "print('训练集上正确率:{}'.format(acc))"
   ]
  },
  {
   "cell_type": "code",
   "execution_count": null,
   "metadata": {},
   "outputs": [],
   "source": []
  }
 ],
 "metadata": {
  "kernelspec": {
   "display_name": "Python 3",
   "language": "python",
   "name": "python3"
  },
  "language_info": {
   "codemirror_mode": {
    "name": "ipython",
    "version": 3
   },
   "file_extension": ".py",
   "mimetype": "text/x-python",
   "name": "python",
   "nbconvert_exporter": "python",
   "pygments_lexer": "ipython3",
   "version": "3.8.3"
  },
  "toc": {
   "base_numbering": 1,
   "nav_menu": {},
   "number_sections": true,
   "sideBar": true,
   "skip_h1_title": false,
   "title_cell": "Table of Contents",
   "title_sidebar": "Contents",
   "toc_cell": false,
   "toc_position": {},
   "toc_section_display": true,
   "toc_window_display": false
  }
 },
 "nbformat": 4,
 "nbformat_minor": 4
}
